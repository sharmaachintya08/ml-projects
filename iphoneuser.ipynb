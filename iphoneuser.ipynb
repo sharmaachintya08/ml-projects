{
 "cells": [
  {
   "cell_type": "code",
   "execution_count": 1,
   "id": "b87e792b-e972-4040-9bc8-6fe2a12af9a0",
   "metadata": {},
   "outputs": [],
   "source": [
    "#the data base is about which person will purchase an iphone given their age salary"
   ]
  },
  {
   "cell_type": "code",
   "execution_count": 2,
   "id": "0c36e726-6b69-48e4-9b6a-34cb7cd9a964",
   "metadata": {},
   "outputs": [],
   "source": [
    "#in this dataset gender age and salary are the 3 independent functions or variables"
   ]
  },
  {
   "cell_type": "code",
   "execution_count": 3,
   "id": "68bb267e-395c-4746-b35c-8af857260e09",
   "metadata": {},
   "outputs": [],
   "source": [
    "#and purchased iphone will be the dependent variable which will be the label depending on the features"
   ]
  },
  {
   "cell_type": "code",
   "execution_count": 4,
   "id": "6a26a0c4-1a74-4ced-b644-177e539dc0d3",
   "metadata": {},
   "outputs": [],
   "source": [
    "import pandas as pd"
   ]
  },
  {
   "cell_type": "code",
   "execution_count": 5,
   "id": "2b4e97b4-c973-4cee-9cd9-d9a9553c8366",
   "metadata": {},
   "outputs": [],
   "source": [
    "data_set = pd.read_csv('iphone-purchase.csv')"
   ]
  },
  {
   "cell_type": "code",
   "execution_count": 6,
   "id": "79616ab8-c558-4213-a41d-37a2e2d58225",
   "metadata": {},
   "outputs": [],
   "source": [
    "#deviding features and labels into two var"
   ]
  },
  {
   "cell_type": "code",
   "execution_count": 7,
   "id": "2cdd6351-502b-45a7-ae3f-c2a50a2cd4ba",
   "metadata": {},
   "outputs": [
    {
     "data": {
      "text/plain": [
       "array([['Male', 19, 19000],\n",
       "       ['Male', 35, 20000],\n",
       "       ['Female', 26, 43000],\n",
       "       ...,\n",
       "       ['Female', 50, 20000],\n",
       "       ['Male', 36, 33000],\n",
       "       ['Female', 49, 36000]], dtype=object)"
      ]
     },
     "execution_count": 7,
     "metadata": {},
     "output_type": "execute_result"
    }
   ],
   "source": [
    "x = data_set.iloc[:,:-1].values #all the independent var , this is 2d array\n",
    "x"
   ]
  },
  {
   "cell_type": "code",
   "execution_count": 17,
   "id": "bf7f4742-8524-4af8-8654-b5ad0ab229c2",
   "metadata": {},
   "outputs": [
    {
     "data": {
      "text/plain": [
       "array([0, 0, 0, 0, 0, 0, 0, 1, 0, 0, 0, 0, 0, 0, 0, 0, 1, 1, 1, 1, 1, 1,\n",
       "       1, 1, 1, 1, 1, 1, 0, 0, 0, 1, 0, 0, 0, 0, 0, 0, 0, 0, 0, 0, 0, 0,\n",
       "       0, 0, 0, 0, 1, 0, 0, 0, 0, 0, 0, 0, 0, 0, 0, 0, 0, 0, 0, 1, 0, 0,\n",
       "       0, 0, 0, 0, 0, 0, 0, 0, 0, 1, 0, 0, 0, 0, 0, 0, 0, 0, 0, 1, 0, 0,\n",
       "       0, 0, 0, 0, 0, 0, 0, 0, 0, 1, 0, 0, 0, 0, 0, 1, 0, 0, 0, 0, 0, 0,\n",
       "       0, 0, 0, 0, 0, 0, 0, 0, 0, 0, 0, 0, 0, 0, 0, 0, 0, 0, 0, 0, 0, 0,\n",
       "       0, 0, 0, 0, 0, 1, 0, 0, 0, 0, 0, 0, 0, 0, 1, 0, 0, 0, 0, 0, 0, 0,\n",
       "       0, 0, 0, 0, 0, 1, 1, 0, 0, 0, 0, 0, 0, 0, 1, 0, 0, 0, 0, 0, 0, 0,\n",
       "       0, 0, 0, 0, 0, 0, 1, 0, 0, 0, 0, 0, 0, 0, 0, 0, 0, 0, 0, 0, 0, 0,\n",
       "       0, 0, 0, 0, 1, 0, 1, 0, 1, 0, 1, 0, 1, 1, 0, 0, 0, 1, 0, 0, 0, 1,\n",
       "       0, 1, 1, 1, 0, 0, 1, 1, 0, 1, 1, 0, 1, 1, 0, 1, 0, 0, 0, 1, 1, 0,\n",
       "       1, 1, 0, 1, 0, 1, 0, 1, 0, 0, 1, 1, 0, 1, 0, 0, 1, 1, 0, 1, 1, 0,\n",
       "       1, 1, 0, 0, 1, 0, 0, 1, 1, 1, 1, 1, 0, 1, 1, 1, 1, 0, 1, 1, 0, 1,\n",
       "       0, 1, 0, 1, 1, 1, 1, 0, 0, 0, 1, 1, 0, 1, 1, 1, 1, 1, 0, 0, 0, 1,\n",
       "       1, 0, 0, 1, 0, 1, 0, 1, 1, 0, 1, 0, 1, 1, 0, 1, 1, 0, 0, 0, 1, 1,\n",
       "       0, 1, 0, 0, 1, 0, 1, 0, 0, 1, 1, 0, 0, 1, 1, 0, 1, 1, 0, 0, 1, 0,\n",
       "       1, 0, 1, 1, 1, 0, 1, 0, 1, 1, 1, 0, 1, 1, 1, 1, 0, 1, 1, 1, 0, 1,\n",
       "       0, 1, 0, 0, 1, 1, 0, 1, 1, 1, 1, 1, 1, 0, 1, 1, 1, 1, 1, 1, 0, 1,\n",
       "       1, 1, 0, 1])"
      ]
     },
     "execution_count": 17,
     "metadata": {},
     "output_type": "execute_result"
    }
   ],
   "source": [
    "y = data_set.iloc[:,3].values #all the independent var , this is 1d array\n",
    "y"
   ]
  },
  {
   "cell_type": "code",
   "execution_count": 11,
   "id": "8808f1b3-779c-4451-afc8-b003a47a2e2e",
   "metadata": {},
   "outputs": [],
   "source": [
    "#since machine cannot handle the string datatype , converting into numbers (gender column)\n",
    "from sklearn.preprocessing import LabelEncoder"
   ]
  },
  {
   "cell_type": "code",
   "execution_count": 13,
   "id": "3704c9e9-a100-4ae8-98a7-131dd809d512",
   "metadata": {},
   "outputs": [],
   "source": [
    "labelEncoder_gender = LabelEncoder()#returning its object into a var\n",
    "x[:,0] = labelEncoder_gender.fit_transform(x[:,0])#transformed into num and stored into indep. var"
   ]
  },
  {
   "cell_type": "code",
   "execution_count": 15,
   "id": "b513df11-ccd1-4013-ba36-aad76ac0defe",
   "metadata": {},
   "outputs": [
    {
     "name": "stdout",
     "output_type": "stream",
     "text": [
      "[[1 19 19000]\n",
      " [1 35 20000]\n",
      " [0 26 43000]\n",
      " ...\n",
      " [0 50 20000]\n",
      " [1 36 33000]\n",
      " [0 49 36000]]\n"
     ]
    }
   ],
   "source": [
    "print(x)#awesome!"
   ]
  },
  {
   "cell_type": "code",
   "execution_count": 19,
   "id": "4c194eb5-f90d-418c-afe6-5c8c5f829a86",
   "metadata": {},
   "outputs": [],
   "source": [
    "#now we have devided our data into features and labels its wise to devide it into training and testing set"
   ]
  },
  {
   "cell_type": "code",
   "execution_count": 21,
   "id": "0edaff4c-1f7d-46d6-a6cb-a4dd9cfdb8e7",
   "metadata": {},
   "outputs": [],
   "source": [
    "from sklearn.model_selection import train_test_split\n",
    "x_train,x_test,y_train,y_test = train_test_split(x,y,test_size=0.25,random_state = 0)#random state will help to fix on the train and test data"
   ]
  },
  {
   "cell_type": "code",
   "execution_count": 22,
   "id": "d5943769-ab7d-41a3-8cd2-48399c342708",
   "metadata": {},
   "outputs": [],
   "source": [
    "#now we need to do the scaling so the algorithm doesnt doesnt give more weightage to some features value"
   ]
  },
  {
   "cell_type": "code",
   "execution_count": 25,
   "id": "432ee034-8182-4634-b8d1-915a92f6f9fd",
   "metadata": {},
   "outputs": [],
   "source": [
    "from sklearn.preprocessing import StandardScaler\n",
    "standscale = StandardScaler()\n",
    "x_train = standscale.fit_transform(x_train)\n",
    "x_test = standscale.fit_transform(x_test)"
   ]
  },
  {
   "cell_type": "code",
   "execution_count": 26,
   "id": "fcda4dcb-0c66-4ac4-bba8-a2c5e02cd826",
   "metadata": {},
   "outputs": [],
   "source": [
    "#you will always use the kernel depending upon the type of dataset you have\n",
    "#to analize that dataset you can use matplotlib.pyplot from the 2d chart"
   ]
  },
  {
   "cell_type": "code",
   "execution_count": 27,
   "id": "40c5a999-42d2-4e8e-ad84-a740206d8da8",
   "metadata": {},
   "outputs": [],
   "source": [
    "#now i will test my dataset with various kernels and check their accuracy score "
   ]
  },
  {
   "cell_type": "code",
   "execution_count": 28,
   "id": "929be613-3b91-4d6c-810f-1c432784daef",
   "metadata": {},
   "outputs": [
    {
     "data": {
      "text/plain": [
       "SVC(random_state=0)"
      ]
     },
     "execution_count": 28,
     "metadata": {},
     "output_type": "execute_result"
    }
   ],
   "source": [
    "from sklearn.svm import SVC\n",
    "clf = SVC(kernel='rbf',random_state=0)#created a classifier\n",
    "clf.fit(x_train,y_train)"
   ]
  },
  {
   "cell_type": "code",
   "execution_count": 30,
   "id": "026eba5e-0dd3-4d46-ba6f-273ce3f7388b",
   "metadata": {},
   "outputs": [],
   "source": [
    "#predicting some values\n",
    "y_pred = clf.predict(x_test)#because y is the dependent variable"
   ]
  },
  {
   "cell_type": "code",
   "execution_count": 32,
   "id": "bff6b15a-fa8f-493f-8238-9435ebf87b1b",
   "metadata": {},
   "outputs": [
    {
     "name": "stdout",
     "output_type": "stream",
     "text": [
      "[[64  4]\n",
      " [ 3 29]]\n",
      "0.93\n"
     ]
    }
   ],
   "source": [
    "from sklearn import metrics\n",
    "cm = metrics.confusion_matrix(y_test,y_pred)\n",
    "print(cm)\n",
    "accuracy = metrics.accuracy_score(y_test,y_pred)#what labels were given in the test ds and predicted ds to check\n",
    "print(accuracy)"
   ]
  },
  {
   "cell_type": "code",
   "execution_count": 34,
   "id": "92293919-5ac1-43ab-9e11-0a5c1eec2824",
   "metadata": {},
   "outputs": [
    {
     "data": {
      "text/plain": [
       "array([0, 0, 0, 0, 0, 0, 0, 1, 0, 0, 0, 0, 0, 0, 0, 0, 0, 0, 1, 0, 0, 1,\n",
       "       0, 1, 0, 1, 0, 0, 0, 0, 0, 0, 1, 0, 0, 0, 0, 0, 0, 0, 0, 0, 0, 0,\n",
       "       1, 0, 0, 1, 0, 1, 1, 0, 0, 1, 1, 0, 0, 0, 0, 0, 0, 1, 0, 1, 0, 1,\n",
       "       0, 0, 0, 0, 1, 0, 0, 0, 0, 0, 1, 0, 1, 1, 1, 1, 0, 0, 1, 1, 0, 1,\n",
       "       0, 0, 0, 1, 0, 0, 0, 0, 0, 0, 1, 1])"
      ]
     },
     "execution_count": 34,
     "metadata": {},
     "output_type": "execute_result"
    }
   ],
   "source": [
    "#when we take the linear kernel\n",
    "clf = SVC(kernel='linear',random_state = 0 )\n",
    "clf.fit(x_train,y_train)\n",
    "y_pred = clf.predict(x_test)"
   ]
  },
  {
   "cell_type": "code",
   "execution_count": 35,
   "id": "3ca49495-06ce-4225-8b86-f51cbb433a59",
   "metadata": {},
   "outputs": [
    {
     "name": "stdout",
     "output_type": "stream",
     "text": [
      "0.93\n"
     ]
    }
   ],
   "source": [
    "accuracy = metrics.accuracy_score(y_test,y_pred)\n",
    "print(accuracy)"
   ]
  },
  {
   "cell_type": "code",
   "execution_count": null,
   "id": "acd6e8f8-673a-467c-bccb-73921e7a80bb",
   "metadata": {},
   "outputs": [],
   "source": []
  }
 ],
 "metadata": {
  "kernelspec": {
   "display_name": "Python 3 (ipykernel)",
   "language": "python",
   "name": "python3"
  },
  "language_info": {
   "codemirror_mode": {
    "name": "ipython",
    "version": 3
   },
   "file_extension": ".py",
   "mimetype": "text/x-python",
   "name": "python",
   "nbconvert_exporter": "python",
   "pygments_lexer": "ipython3",
   "version": "3.9.9"
  }
 },
 "nbformat": 4,
 "nbformat_minor": 5
}
