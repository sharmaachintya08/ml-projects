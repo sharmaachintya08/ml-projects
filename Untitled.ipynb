{
 "cells": [
  {
   "cell_type": "code",
   "execution_count": 4,
   "id": "1bdcda07-7f4c-4d7d-aaa7-646b08a03883",
   "metadata": {},
   "outputs": [],
   "source": [
    "import pandas as pd\n",
    "from sklearn.feature_extraction.text import CountVectorizer\n",
    "\n",
    "df = pd.read_csv('corp-messaging.csv')\n",
    "dropcol=['_unit_id','_golden','_unit_state','_trusted_judgments','_last_judgment_at','category_gold','id']\n",
    "for col in dropcol:\n",
    "    df.drop(col,axis=1,inplace=True)\n",
    "cv = CountVectorizer()"
   ]
  },
  {
   "cell_type": "code",
   "execution_count": 5,
   "id": "d0a476fa-3de7-4fb2-bd14-af327020a0ff",
   "metadata": {},
   "outputs": [
    {
     "data": {
      "text/html": [
       "<div>\n",
       "<style scoped>\n",
       "    .dataframe tbody tr th:only-of-type {\n",
       "        vertical-align: middle;\n",
       "    }\n",
       "\n",
       "    .dataframe tbody tr th {\n",
       "        vertical-align: top;\n",
       "    }\n",
       "\n",
       "    .dataframe thead th {\n",
       "        text-align: right;\n",
       "    }\n",
       "</style>\n",
       "<table border=\"1\" class=\"dataframe\">\n",
       "  <thead>\n",
       "    <tr style=\"text-align: right;\">\n",
       "      <th></th>\n",
       "      <th>category</th>\n",
       "      <th>category:confidence</th>\n",
       "      <th>screenname</th>\n",
       "      <th>text</th>\n",
       "    </tr>\n",
       "  </thead>\n",
       "  <tbody>\n",
       "    <tr>\n",
       "      <th>0</th>\n",
       "      <td>Information</td>\n",
       "      <td>1.0</td>\n",
       "      <td>Barclays</td>\n",
       "      <td>Barclays CEO stresses the importance of regula...</td>\n",
       "    </tr>\n",
       "    <tr>\n",
       "      <th>1</th>\n",
       "      <td>Information</td>\n",
       "      <td>1.0</td>\n",
       "      <td>Barclays</td>\n",
       "      <td>Barclays announces result of Rights Issue http...</td>\n",
       "    </tr>\n",
       "    <tr>\n",
       "      <th>2</th>\n",
       "      <td>Information</td>\n",
       "      <td>1.0</td>\n",
       "      <td>Barclays</td>\n",
       "      <td>Barclays publishes its prospectus for its å£5....</td>\n",
       "    </tr>\n",
       "    <tr>\n",
       "      <th>3</th>\n",
       "      <td>Information</td>\n",
       "      <td>1.0</td>\n",
       "      <td>Barclays</td>\n",
       "      <td>Barclays Group Finance Director Chris Lucas is...</td>\n",
       "    </tr>\n",
       "    <tr>\n",
       "      <th>4</th>\n",
       "      <td>Information</td>\n",
       "      <td>1.0</td>\n",
       "      <td>Barclays</td>\n",
       "      <td>Barclays announces that Irene McDermott Brown ...</td>\n",
       "    </tr>\n",
       "  </tbody>\n",
       "</table>\n",
       "</div>"
      ],
      "text/plain": [
       "      category  category:confidence screenname  \\\n",
       "0  Information                  1.0   Barclays   \n",
       "1  Information                  1.0   Barclays   \n",
       "2  Information                  1.0   Barclays   \n",
       "3  Information                  1.0   Barclays   \n",
       "4  Information                  1.0   Barclays   \n",
       "\n",
       "                                                text  \n",
       "0  Barclays CEO stresses the importance of regula...  \n",
       "1  Barclays announces result of Rights Issue http...  \n",
       "2  Barclays publishes its prospectus for its å£5....  \n",
       "3  Barclays Group Finance Director Chris Lucas is...  \n",
       "4  Barclays announces that Irene McDermott Brown ...  "
      ]
     },
     "execution_count": 5,
     "metadata": {},
     "output_type": "execute_result"
    }
   ],
   "source": [
    "df.head()#since text is already vectorized "
   ]
  },
  {
   "cell_type": "code",
   "execution_count": 6,
   "id": "4c7d714e-1d3d-407a-9a79-84c7980015bd",
   "metadata": {},
   "outputs": [
    {
     "name": "stderr",
     "output_type": "stream",
     "text": [
      "/tmp/ipykernel_306237/2867738527.py:5: SettingWithCopyWarning: \n",
      "A value is trying to be set on a copy of a slice from a DataFrame\n",
      "\n",
      "See the caveats in the documentation: https://pandas.pydata.org/pandas-docs/stable/user_guide/indexing.html#returning-a-view-versus-a-copy\n",
      "  df['text'][i] = vector.toarray()\n"
     ]
    }
   ],
   "source": [
    "i=0\n",
    "for text in df['text']:\n",
    "    text = [text]\n",
    "    vector = cv.fit_transform(text)\n",
    "    df['text'][i] = vector.toarray()\n",
    "    i+=1"
   ]
  },
  {
   "cell_type": "code",
   "execution_count": 7,
   "id": "28e7d20f-0b9c-4069-ab84-84c9501c5d06",
   "metadata": {},
   "outputs": [
    {
     "data": {
      "text/html": [
       "<div>\n",
       "<style scoped>\n",
       "    .dataframe tbody tr th:only-of-type {\n",
       "        vertical-align: middle;\n",
       "    }\n",
       "\n",
       "    .dataframe tbody tr th {\n",
       "        vertical-align: top;\n",
       "    }\n",
       "\n",
       "    .dataframe thead th {\n",
       "        text-align: right;\n",
       "    }\n",
       "</style>\n",
       "<table border=\"1\" class=\"dataframe\">\n",
       "  <thead>\n",
       "    <tr style=\"text-align: right;\">\n",
       "      <th></th>\n",
       "      <th>category</th>\n",
       "      <th>category:confidence</th>\n",
       "      <th>screenname</th>\n",
       "      <th>text</th>\n",
       "    </tr>\n",
       "  </thead>\n",
       "  <tbody>\n",
       "    <tr>\n",
       "      <th>0</th>\n",
       "      <td>Information</td>\n",
       "      <td>1.0</td>\n",
       "      <td>Barclays</td>\n",
       "      <td>[[1, 1, 1, 1, 1, 1, 1, 1, 1, 1, 1, 1, 1, 1, 1,...</td>\n",
       "    </tr>\n",
       "    <tr>\n",
       "      <th>1</th>\n",
       "      <td>Information</td>\n",
       "      <td>1.0</td>\n",
       "      <td>Barclays</td>\n",
       "      <td>[[1, 1, 1, 1, 1, 1, 1, 1, 1]]</td>\n",
       "    </tr>\n",
       "    <tr>\n",
       "      <th>2</th>\n",
       "      <td>Information</td>\n",
       "      <td>1.0</td>\n",
       "      <td>Barclays</td>\n",
       "      <td>[[1, 1, 1, 1, 1, 1, 2, 1, 1, 1, 1]]</td>\n",
       "    </tr>\n",
       "    <tr>\n",
       "      <th>3</th>\n",
       "      <td>Information</td>\n",
       "      <td>1.0</td>\n",
       "      <td>Barclays</td>\n",
       "      <td>[[1, 1, 1, 1, 1, 1, 1, 1, 1, 1, 1, 1, 1, 1, 1,...</td>\n",
       "    </tr>\n",
       "    <tr>\n",
       "      <th>4</th>\n",
       "      <td>Information</td>\n",
       "      <td>1.0</td>\n",
       "      <td>Barclays</td>\n",
       "      <td>[[1, 1, 1, 1, 1, 1, 1, 1, 1, 1, 1, 1, 1, 1, 1,...</td>\n",
       "    </tr>\n",
       "  </tbody>\n",
       "</table>\n",
       "</div>"
      ],
      "text/plain": [
       "      category  category:confidence screenname  \\\n",
       "0  Information                  1.0   Barclays   \n",
       "1  Information                  1.0   Barclays   \n",
       "2  Information                  1.0   Barclays   \n",
       "3  Information                  1.0   Barclays   \n",
       "4  Information                  1.0   Barclays   \n",
       "\n",
       "                                                text  \n",
       "0  [[1, 1, 1, 1, 1, 1, 1, 1, 1, 1, 1, 1, 1, 1, 1,...  \n",
       "1                      [[1, 1, 1, 1, 1, 1, 1, 1, 1]]  \n",
       "2                [[1, 1, 1, 1, 1, 1, 2, 1, 1, 1, 1]]  \n",
       "3  [[1, 1, 1, 1, 1, 1, 1, 1, 1, 1, 1, 1, 1, 1, 1,...  \n",
       "4  [[1, 1, 1, 1, 1, 1, 1, 1, 1, 1, 1, 1, 1, 1, 1,...  "
      ]
     },
     "execution_count": 7,
     "metadata": {},
     "output_type": "execute_result"
    }
   ],
   "source": [
    "df.head()"
   ]
  },
  {
   "cell_type": "code",
   "execution_count": 23,
   "id": "8d87b585-b2b6-4470-aa68-cb7263205d37",
   "metadata": {},
   "outputs": [],
   "source": [
    "categorydict = {\"Information\":0,\"Action\":1,\"Dialogue\":2,\"Exclude\":3}"
   ]
  },
  {
   "cell_type": "code",
   "execution_count": 24,
   "id": "93d5f9d3-8d79-448d-a979-ea7a7fcbde60",
   "metadata": {},
   "outputs": [],
   "source": [
    "i=0\n",
    "for categor in df['category']:#this is printing all of the category in string from the column\n",
    "    for cat in categorydict.keys():#this is looping through the keys\n",
    "        if categor == cat:\n",
    "            print(i,categor,cat)\n",
    "            df['category'][i] = categorydict.get(cat)\n",
    "            print(df['category'][i])\n",
    "            i+=1"
   ]
  },
  {
   "cell_type": "code",
   "execution_count": 32,
   "id": "5501df43-6aa0-4db5-bfc1-ab0e05378aef",
   "metadata": {},
   "outputs": [],
   "source": [
    "screennamedict = {\"Barclays\":0,\"barclayswealth\":1,\"Citi\":2,\"CitigroupBRK\":3,\"C_PR\":4,\"DanoneGroup\":5,\"Merck\":6,\"Nestle\":7,\"pfizer_news\":8}\n",
    "i=0\n",
    "for sname in df['screenname']:\n",
    "    for sdict in screennamedict.keys():\n",
    "        if sname == sdict:\n",
    "            df['screenname'][i] = screennamedict.get(sdict)\n",
    "            i+=1"
   ]
  },
  {
   "cell_type": "code",
   "execution_count": 34,
   "id": "188b2537-63d9-4e21-880d-ba413f7c7042",
   "metadata": {},
   "outputs": [
    {
     "data": {
      "text/html": [
       "<div>\n",
       "<style scoped>\n",
       "    .dataframe tbody tr th:only-of-type {\n",
       "        vertical-align: middle;\n",
       "    }\n",
       "\n",
       "    .dataframe tbody tr th {\n",
       "        vertical-align: top;\n",
       "    }\n",
       "\n",
       "    .dataframe thead th {\n",
       "        text-align: right;\n",
       "    }\n",
       "</style>\n",
       "<table border=\"1\" class=\"dataframe\">\n",
       "  <thead>\n",
       "    <tr style=\"text-align: right;\">\n",
       "      <th></th>\n",
       "      <th>category</th>\n",
       "      <th>category:confidence</th>\n",
       "      <th>screenname</th>\n",
       "      <th>text</th>\n",
       "    </tr>\n",
       "  </thead>\n",
       "  <tbody>\n",
       "    <tr>\n",
       "      <th>0</th>\n",
       "      <td>0</td>\n",
       "      <td>1.0</td>\n",
       "      <td>0</td>\n",
       "      <td>[[1, 1, 1, 1, 1, 1, 1, 1, 1, 1, 1, 1, 1, 1, 1,...</td>\n",
       "    </tr>\n",
       "    <tr>\n",
       "      <th>1</th>\n",
       "      <td>0</td>\n",
       "      <td>1.0</td>\n",
       "      <td>0</td>\n",
       "      <td>[[1, 1, 1, 1, 1, 1, 1, 1, 1]]</td>\n",
       "    </tr>\n",
       "    <tr>\n",
       "      <th>2</th>\n",
       "      <td>0</td>\n",
       "      <td>1.0</td>\n",
       "      <td>0</td>\n",
       "      <td>[[1, 1, 1, 1, 1, 1, 2, 1, 1, 1, 1]]</td>\n",
       "    </tr>\n",
       "    <tr>\n",
       "      <th>3</th>\n",
       "      <td>0</td>\n",
       "      <td>1.0</td>\n",
       "      <td>0</td>\n",
       "      <td>[[1, 1, 1, 1, 1, 1, 1, 1, 1, 1, 1, 1, 1, 1, 1,...</td>\n",
       "    </tr>\n",
       "    <tr>\n",
       "      <th>4</th>\n",
       "      <td>0</td>\n",
       "      <td>1.0</td>\n",
       "      <td>0</td>\n",
       "      <td>[[1, 1, 1, 1, 1, 1, 1, 1, 1, 1, 1, 1, 1, 1, 1,...</td>\n",
       "    </tr>\n",
       "  </tbody>\n",
       "</table>\n",
       "</div>"
      ],
      "text/plain": [
       "  category  category:confidence screenname  \\\n",
       "0        0                  1.0          0   \n",
       "1        0                  1.0          0   \n",
       "2        0                  1.0          0   \n",
       "3        0                  1.0          0   \n",
       "4        0                  1.0          0   \n",
       "\n",
       "                                                text  \n",
       "0  [[1, 1, 1, 1, 1, 1, 1, 1, 1, 1, 1, 1, 1, 1, 1,...  \n",
       "1                      [[1, 1, 1, 1, 1, 1, 1, 1, 1]]  \n",
       "2                [[1, 1, 1, 1, 1, 1, 2, 1, 1, 1, 1]]  \n",
       "3  [[1, 1, 1, 1, 1, 1, 1, 1, 1, 1, 1, 1, 1, 1, 1,...  \n",
       "4  [[1, 1, 1, 1, 1, 1, 1, 1, 1, 1, 1, 1, 1, 1, 1,...  "
      ]
     },
     "execution_count": 34,
     "metadata": {},
     "output_type": "execute_result"
    }
   ],
   "source": [
    "df.head()"
   ]
  },
  {
   "cell_type": "code",
   "execution_count": 35,
   "id": "0536a516-5753-4a0b-9e4e-af95d3620fa0",
   "metadata": {},
   "outputs": [
    {
     "ename": "NameError",
     "evalue": "name 'plt' is not defined",
     "output_type": "error",
     "traceback": [
      "\u001b[0;31m---------------------------------------------------------------------------\u001b[0m",
      "\u001b[0;31mNameError\u001b[0m                                 Traceback (most recent call last)",
      "Input \u001b[0;32mIn [35]\u001b[0m, in \u001b[0;36m<module>\u001b[0;34m\u001b[0m\n\u001b[0;32m----> 1\u001b[0m \u001b[43mplt\u001b[49m\u001b[38;5;241m.\u001b[39mscatter(category,screenname)\n",
      "\u001b[0;31mNameError\u001b[0m: name 'plt' is not defined"
     ]
    }
   ],
   "source": [
    "plt.scatter(category,screenname)\n"
   ]
  },
  {
   "cell_type": "code",
   "execution_count": null,
   "id": "47e95ee9-44f9-4b0b-af91-2d84a4b0f807",
   "metadata": {},
   "outputs": [],
   "source": []
  }
 ],
 "metadata": {
  "kernelspec": {
   "display_name": "Python 3 (ipykernel)",
   "language": "python",
   "name": "python3"
  },
  "language_info": {
   "codemirror_mode": {
    "name": "ipython",
    "version": 3
   },
   "file_extension": ".py",
   "mimetype": "text/x-python",
   "name": "python",
   "nbconvert_exporter": "python",
   "pygments_lexer": "ipython3",
   "version": "3.9.9"
  }
 },
 "nbformat": 4,
 "nbformat_minor": 5
}
